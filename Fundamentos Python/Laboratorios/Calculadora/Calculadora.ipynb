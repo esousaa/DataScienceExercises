{
 "cells": [
  {
   "cell_type": "markdown",
   "metadata": {},
   "source": [
    "# Lab Calculadora Python!"
   ]
  },
  {
   "cell_type": "markdown",
   "metadata": {},
   "source": [
    "### Receber as informações do usuário"
   ]
  },
  {
   "cell_type": "code",
   "execution_count": 27,
   "metadata": {},
   "outputs": [
    {
     "name": "stdout",
     "output_type": "stream",
     "text": [
      "############### CALC PYTHON ####################\n",
      "Informe a operação desejada: \n",
      " 1 - SOMA \n",
      " 2 - SUBTRAÇÃO \n",
      " 3 - MULTIPLICAÇÃO \n",
      " 4 - DIVISÃO \n",
      "3\n",
      "Informe o primeiro valor:5\n",
      "Informe o segundo valor:6\n",
      "Resultado da operação:30\n"
     ]
    }
   ],
   "source": [
    "def validaOperacao(op):\n",
    "    if int(op) > 0 and int(op) <= 4:\n",
    "        return True\n",
    "    else:\n",
    "        return False\n",
    "    \n",
    "def operacoes(op,num1,num2):\n",
    "    if int(op) == 1:\n",
    "        calc = int(num1) + int(num2)\n",
    "    elif int(op) == 2:\n",
    "        calc = int(num1) - int(num2)\n",
    "    elif int(op) == 3:\n",
    "        calc = int(num1) * int(num2)\n",
    "    elif int(op) == 4:\n",
    "        if int(num2) > 0:\n",
    "            calc = int(num1) / int(num2)\n",
    "        else:\n",
    "           calc = \"Não é possível dividir por zero.\"           \n",
    "    return calc\n",
    "\n",
    "# Apresenta o título do sistema\n",
    "print(\"############### CALC PYTHON ####################\")\n",
    "# Rece a função que será executada\n",
    "operacao = input(\"Informe a operação desejada: \\n 1 - SOMA \\n 2 - SUBTRAÇÃO \\n 3 - MULTIPLICAÇÃO \\n 4 - DIVISÃO \\n\")\n",
    "retorno =  validaOperacao(operacao)\n",
    "if retorno == True:\n",
    "    n1 = input(\"Informe o primeiro valor:\")\n",
    "    n2 = input(\"Informe o segundo valor:\")\n",
    "    print(\"Resultado da operação :\" + str(operacoes(operacao,n1,n2)))\n",
    "else:\n",
    "    print(\"Operação Informada Inválida\")\n",
    "\n"
   ]
  },
  {
   "cell_type": "code",
   "execution_count": null,
   "metadata": {},
   "outputs": [],
   "source": []
  }
 ],
 "metadata": {
  "kernelspec": {
   "display_name": "Python 3",
   "language": "python",
   "name": "python3"
  },
  "language_info": {
   "codemirror_mode": {
    "name": "ipython",
    "version": 3
   },
   "file_extension": ".py",
   "mimetype": "text/x-python",
   "name": "python",
   "nbconvert_exporter": "python",
   "pygments_lexer": "ipython3",
   "version": "3.6.4"
  }
 },
 "nbformat": 4,
 "nbformat_minor": 2
}
